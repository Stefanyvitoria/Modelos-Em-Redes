{
  "nbformat": 4,
  "nbformat_minor": 0,
  "metadata": {
    "colab": {
      "name": "extracao-rede.ipynb",
      "provenance": [],
      "collapsed_sections": [],
      "authorship_tag": "ABX9TyPlF3be4TXMKDRWLo1AcfW0",
      "include_colab_link": true
    },
    "kernelspec": {
      "name": "python3",
      "display_name": "Python 3"
    },
    "language_info": {
      "name": "python"
    }
  },
  "cells": [
    {
      "cell_type": "markdown",
      "metadata": {
        "id": "view-in-github",
        "colab_type": "text"
      },
      "source": [
        "<a href=\"https://colab.research.google.com/github/Stefanyvitoria/Modelos-Em-Redes/blob/main/extracao_rede.ipynb\" target=\"_parent\"><img src=\"https://colab.research.google.com/assets/colab-badge.svg\" alt=\"Open In Colab\"/></a>"
      ]
    },
    {
      "cell_type": "markdown",
      "metadata": {
        "id": "Drah8w9xxZGq"
      },
      "source": [
        "2020.1 | MODELOS EM REDES - GE3\n",
        "\n",
        "Aluna: Stefany vitoria da Conceição Izidio"
      ]
    },
    {
      "cell_type": "markdown",
      "metadata": {
        "id": "OmqDWDBTxw_u"
      },
      "source": [
        "#Analisando a rede de consumidores de animações japonesas\n"
      ]
    },
    {
      "cell_type": "code",
      "metadata": {
        "id": "hH6s3_CM3cH2",
        "colab": {
          "base_uri": "https://localhost:8080/"
        },
        "outputId": "127820a2-b503-4cb1-9435-961914577130"
      },
      "source": [
        "from google.colab import drive\n",
        "drive.mount('/content/drive')"
      ],
      "execution_count": null,
      "outputs": [
        {
          "output_type": "stream",
          "text": [
            "Drive already mounted at /content/drive; to attempt to forcibly remount, call drive.mount(\"/content/drive\", force_remount=True).\n"
          ],
          "name": "stdout"
        }
      ]
    },
    {
      "cell_type": "code",
      "metadata": {
        "id": "tjX5n2K5xJPV"
      },
      "source": [
        "import pandas as pd\n",
        "import networkx as nx\n",
        "import joblib"
      ],
      "execution_count": null,
      "outputs": []
    },
    {
      "cell_type": "code",
      "metadata": {
        "id": "cmdTbP1YzX0c"
      },
      "source": [
        "profiles = pd.read_csv(r'/content/drive/MyDrive/Modelos em redes/project/profiles.csv')"
      ],
      "execution_count": null,
      "outputs": []
    },
    {
      "cell_type": "code",
      "metadata": {
        "id": "vGXcZ8zoHuR3"
      },
      "source": [
        "#Removing duplicate row, select attributes and Removing null row\n",
        "profiles.drop_duplicates(subset='profile',inplace=True) \n",
        "profiles = profiles.iloc[:,[0,1,3]]\n",
        "profiles = profiles.loc[profiles['gender'] == 'Female']\n",
        "profiles.dropna(inplace=True)"
      ],
      "execution_count": null,
      "outputs": []
    },
    {
      "cell_type": "code",
      "metadata": {
        "id": "N_9TcnoDaa8N",
        "colab": {
          "base_uri": "https://localhost:8080/",
          "height": 419
        },
        "outputId": "514ba385-7d60-49d2-cd4e-df539a155922"
      },
      "source": [
        "profiles"
      ],
      "execution_count": null,
      "outputs": [
        {
          "output_type": "execute_result",
          "data": {
            "text/html": [
              "<div>\n",
              "<style scoped>\n",
              "    .dataframe tbody tr th:only-of-type {\n",
              "        vertical-align: middle;\n",
              "    }\n",
              "\n",
              "    .dataframe tbody tr th {\n",
              "        vertical-align: top;\n",
              "    }\n",
              "\n",
              "    .dataframe thead th {\n",
              "        text-align: right;\n",
              "    }\n",
              "</style>\n",
              "<table border=\"1\" class=\"dataframe\">\n",
              "  <thead>\n",
              "    <tr style=\"text-align: right;\">\n",
              "      <th></th>\n",
              "      <th>profile</th>\n",
              "      <th>gender</th>\n",
              "      <th>favorites_anime</th>\n",
              "    </tr>\n",
              "  </thead>\n",
              "  <tbody>\n",
              "    <tr>\n",
              "      <th>1</th>\n",
              "      <td>baekbeans</td>\n",
              "      <td>Female</td>\n",
              "      <td>['11061', '31964', '853', '20583', '918', '925...</td>\n",
              "    </tr>\n",
              "    <tr>\n",
              "      <th>10</th>\n",
              "      <td>angelsreview</td>\n",
              "      <td>Female</td>\n",
              "      <td>['534', '71', '7724', '861', '5060', '853']</td>\n",
              "    </tr>\n",
              "    <tr>\n",
              "      <th>22</th>\n",
              "      <td>SakuraSan628</td>\n",
              "      <td>Female</td>\n",
              "      <td>['232', '8129', '7791', '10460', '18507']</td>\n",
              "    </tr>\n",
              "    <tr>\n",
              "      <th>27</th>\n",
              "      <td>GinKagu</td>\n",
              "      <td>Female</td>\n",
              "      <td>['918', '2904', '4181', '9989']</td>\n",
              "    </tr>\n",
              "    <tr>\n",
              "      <th>35</th>\n",
              "      <td>greatyu</td>\n",
              "      <td>Female</td>\n",
              "      <td>['20', '21', '918', '11061', '934', '13125']</td>\n",
              "    </tr>\n",
              "    <tr>\n",
              "      <th>...</th>\n",
              "      <td>...</td>\n",
              "      <td>...</td>\n",
              "      <td>...</td>\n",
              "    </tr>\n",
              "    <tr>\n",
              "      <th>77445</th>\n",
              "      <td>memetendo</td>\n",
              "      <td>Female</td>\n",
              "      <td>['32281', '15051', '199', '32995', '5060', '31...</td>\n",
              "    </tr>\n",
              "    <tr>\n",
              "      <th>77452</th>\n",
              "      <td>meri_nicole</td>\n",
              "      <td>Female</td>\n",
              "      <td>['205', '5060', '966', '2605']</td>\n",
              "    </tr>\n",
              "    <tr>\n",
              "      <th>77468</th>\n",
              "      <td>Sarkasse</td>\n",
              "      <td>Female</td>\n",
              "      <td>[]</td>\n",
              "    </tr>\n",
              "    <tr>\n",
              "      <th>77473</th>\n",
              "      <td>SuzumiyaHaruhi</td>\n",
              "      <td>Female</td>\n",
              "      <td>['1604', '355', '1195', '3457', '849']</td>\n",
              "    </tr>\n",
              "    <tr>\n",
              "      <th>77497</th>\n",
              "      <td>nanru</td>\n",
              "      <td>Female</td>\n",
              "      <td>['918', '14719', '4081', '11061']</td>\n",
              "    </tr>\n",
              "  </tbody>\n",
              "</table>\n",
              "<p>9264 rows × 3 columns</p>\n",
              "</div>"
            ],
            "text/plain": [
              "              profile  ...                                    favorites_anime\n",
              "1           baekbeans  ...  ['11061', '31964', '853', '20583', '918', '925...\n",
              "10       angelsreview  ...        ['534', '71', '7724', '861', '5060', '853']\n",
              "22       SakuraSan628  ...          ['232', '8129', '7791', '10460', '18507']\n",
              "27            GinKagu  ...                    ['918', '2904', '4181', '9989']\n",
              "35            greatyu  ...       ['20', '21', '918', '11061', '934', '13125']\n",
              "...               ...  ...                                                ...\n",
              "77445       memetendo  ...  ['32281', '15051', '199', '32995', '5060', '31...\n",
              "77452     meri_nicole  ...                     ['205', '5060', '966', '2605']\n",
              "77468        Sarkasse  ...                                                 []\n",
              "77473  SuzumiyaHaruhi  ...             ['1604', '355', '1195', '3457', '849']\n",
              "77497           nanru  ...                  ['918', '14719', '4081', '11061']\n",
              "\n",
              "[9264 rows x 3 columns]"
            ]
          },
          "metadata": {
            "tags": []
          },
          "execution_count": 5
        }
      ]
    },
    {
      "cell_type": "code",
      "metadata": {
        "id": "JLZOXiJO3ZTq"
      },
      "source": [
        "profiles['favorites_anime'] = profiles['favorites_anime'].apply(lambda x: eval(x) )"
      ],
      "execution_count": null,
      "outputs": []
    },
    {
      "cell_type": "code",
      "metadata": {
        "colab": {
          "base_uri": "https://localhost:8080/"
        },
        "id": "iqAE6TOrzcZW",
        "outputId": "84fba0e4-6523-47de-8f2a-67fe6530b9e1"
      },
      "source": [
        "graph = nx.Graph()\n",
        "\n",
        "rows = profiles.values\n",
        "for index, row1 in enumerate(rows): #For each register (user)\n",
        "\n",
        "  user1 = row1[0]\n",
        "  list_uids1 = row1[-1]\n",
        "  graph.add_node(user1)\n",
        "\n",
        "  for row2 in rows[index+1:]: #For each user from user1 onwards\n",
        "    user2 = row2[0]\n",
        "    list_uids2 = row2[-1]\n",
        "    graph.add_node(user2)\n",
        "\n",
        "    if len([uid for uid in list_uids1 if uid in list_uids2]) >= 3: #Check the amount of anime in common\n",
        "      graph.add_edge(user1, user2)\n",
        "\n",
        "\n",
        "joblib.dump(graph, r'/content/drive/MyDrive/Modelos em redes/project/graph.pkl')"
      ],
      "execution_count": null,
      "outputs": [
        {
          "output_type": "execute_result",
          "data": {
            "text/plain": [
              "['/content/drive/MyDrive/Modelos em redes/project/graph.pkl']"
            ]
          },
          "metadata": {
            "tags": []
          },
          "execution_count": 7
        }
      ]
    },
    {
      "cell_type": "code",
      "metadata": {
        "colab": {
          "base_uri": "https://localhost:8080/"
        },
        "id": "2A0-uW5CXGRR",
        "outputId": "1a9996a4-3800-4bba-cebd-3409af8c5ddb"
      },
      "source": [
        "nx.draw(graph, edge_color= 'red')"
      ],
      "execution_count": null,
      "outputs": [
        {
          "output_type": "display_data",
          "data": {
            "image/png": "[encoded data removed]",
            "text/plain": [
              "<Figure size 432x288 with 1 Axes>"
            ]
          },
          "metadata": {
            "tags": []
          }
        }
      ]
    }
  ]
}